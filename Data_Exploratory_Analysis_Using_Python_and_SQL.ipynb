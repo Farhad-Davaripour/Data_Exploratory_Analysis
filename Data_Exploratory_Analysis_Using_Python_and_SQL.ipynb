### Data Exploratory Analysis on MCDonalad's Menu Nutrition Fact

This hands-on lab presents a data exploratory analysis on MCDonalad's menu nutrition fact using python and SQL .  
The dataset is downloaded from Kaggle and stored into IBM DB2 cloud.   
    ✔ [Link to the dataset](https://www.kaggle.com/mcdonalds/nutrition-facts)   

This lab is a part of [Databases and SQL for Data Science course](https://www.coursera.org/learn/sql-data-science) offered by Coursera.org.  
The skeleton of the solution is partly provided in the course. 

# loading ipython sql extension
%load_ext sql

# insert the location of your connection string as below
%sql ibm_db_sa://my-username:my-password@hostname:port/BLUDB?security=SSL

df_sql = %sql select * from mcMenu;

df = df_sql.DataFrame()
df.head()

# let's view the summary of the statistics of the data in df
import pandas as pd
df.describe(include='all')
# accordingly there are 260 rown in the df with 9 unique categories

__Finding the item with highest content of sodium__

fig, ax=plt.subplots(figsize=(15,5))
# sns.barplot(x="category",y="sodium",ax=ax,data=df)
plot = sns.swarmplot(x='category',y='sodium',ax=ax,data=df)
plt.setp(plot.get_xticklabels(),rotation=70)
plt.title('sodium content')
plt.show()
# the plot below shows that chiecken and fish has the highest content of sodium in the mcDonald's menu

df_sql_sodium = %sql select item, sodium from mcMenu where category='Chicken & Fish'
df_sodium = df_sql_sodium.DataFrame()

fig, ax = plt.subplots(figsize=(20,5))
plot = sns.barplot(x="item",y="sodium",data=df_sodium,ax=ax)
plt.setp(plot.get_xticklabels(), rotation=90)
plt.show()
# the plot below shows that the chichen MCNuggets (40 pieces) in the category of Chickehn & Fish has the highest content of sodium

# an alternative approach to find the item with the highest content of sodium is using SQL as presented below
df_sql_na = %sql select item, sodium from mcMenu where sodium in (select max(sodium) from mcMenu)
df_sql_na

# another approach to find the item with highest content of sodium using python
item_max_sodium = df[df['sodium']==max(df['sodium'])][['item','sodium']]
item_max_sodium

# or maybe using the approach presented below
df.at[df['sodium'].idxmax(),'item']

__is there any correlation between total fat and protein content?__

%matplotlib inline
plot = seaborn.jointplot(x="protein", y="total_fat", data=df)
# there is a point on the top right side of the plot which is a possible outlier
# there seems to be some sort of correlation between total fat and protein

%matplotlib inline
plot = sns.set_style("whitegrid")
ax = sns.boxenplot(x=df["sugars"])
# the plot shows a few outliers with extreme values of sugar. These items are retreive in the following cell.

item_w_high_sugar_content = df[df['sugars'] > 110][['item','sugars']]
item_w_high_sugar_content
# the below tables shows that the items with extremly high sugar contents are shakes and candy
